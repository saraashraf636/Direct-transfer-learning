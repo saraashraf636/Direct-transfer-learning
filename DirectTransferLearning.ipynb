{
  "cells": [
    {
      "cell_type": "markdown",
      "metadata": {
        "id": "muw-wMnVyOpK"
      },
      "source": [
        "# working on a pretrained model"
      ]
    },
    {
      "cell_type": "markdown",
      "metadata": {
        "id": "gET78tIIyOpP"
      },
      "source": [
        "## pretrained models as feature extractors"
      ]
    },
    {
      "cell_type": "code",
      "execution_count": null,
      "metadata": {
        "id": "Y8zoUWdqyOpQ"
      },
      "outputs": [],
      "source": [
        "from tensorflow.keras.applications import ResNet50\n",
        "from tensorflow.keras.applications.resnet50 import ResNet50\n",
        "from tensorflow.keras.preprocessing import image\n",
        "import numpy as np"
      ]
    },
    {
      "cell_type": "code",
      "execution_count": null,
      "metadata": {
        "colab": {
          "base_uri": "https://localhost:8080/",
          "height": 356
        },
        "id": "tWBQdLGlyOpR",
        "outputId": "93fccc68-43d1-4f98-841d-2e85d7ab9bd8"
      },
      "outputs": [
        {
          "output_type": "error",
          "ename": "FileNotFoundError",
          "evalue": "ignored",
          "traceback": [
            "\u001b[0;31m---------------------------------------------------------------------------\u001b[0m",
            "\u001b[0;31mFileNotFoundError\u001b[0m                         Traceback (most recent call last)",
            "\u001b[0;32m<ipython-input-3-5d6fac8b3fa8>\u001b[0m in \u001b[0;36m<module>\u001b[0;34m\u001b[0m\n\u001b[1;32m      1\u001b[0m \u001b[0mmodel\u001b[0m \u001b[0;34m=\u001b[0m \u001b[0mResNet50\u001b[0m\u001b[0;34m(\u001b[0m\u001b[0mweights\u001b[0m\u001b[0;34m=\u001b[0m\u001b[0;34m'imagenet'\u001b[0m\u001b[0;34m,\u001b[0m\u001b[0minclude_top\u001b[0m\u001b[0;34m=\u001b[0m\u001b[0;32mFalse\u001b[0m\u001b[0;34m)\u001b[0m\u001b[0;34m\u001b[0m\u001b[0;34m\u001b[0m\u001b[0m\n\u001b[1;32m      2\u001b[0m \u001b[0mimg_path\u001b[0m \u001b[0;34m=\u001b[0m \u001b[0;34m'd:\\\\tests\\\\cat0.jpg'\u001b[0m\u001b[0;34m\u001b[0m\u001b[0;34m\u001b[0m\u001b[0m\n\u001b[0;32m----> 3\u001b[0;31m \u001b[0mimg\u001b[0m \u001b[0;34m=\u001b[0m \u001b[0mimage\u001b[0m\u001b[0;34m.\u001b[0m\u001b[0mload_img\u001b[0m\u001b[0;34m(\u001b[0m\u001b[0mimg_path\u001b[0m\u001b[0;34m,\u001b[0m \u001b[0mtarget_size\u001b[0m\u001b[0;34m=\u001b[0m\u001b[0;34m(\u001b[0m\u001b[0;36m224\u001b[0m\u001b[0;34m,\u001b[0m \u001b[0;36m224\u001b[0m\u001b[0;34m)\u001b[0m\u001b[0;34m)\u001b[0m\u001b[0;34m\u001b[0m\u001b[0;34m\u001b[0m\u001b[0m\n\u001b[0m\u001b[1;32m      4\u001b[0m \u001b[0mx\u001b[0m \u001b[0;34m=\u001b[0m \u001b[0mimage\u001b[0m\u001b[0;34m.\u001b[0m\u001b[0mimg_to_array\u001b[0m\u001b[0;34m(\u001b[0m\u001b[0mimg\u001b[0m\u001b[0;34m)\u001b[0m\u001b[0;34m\u001b[0m\u001b[0;34m\u001b[0m\u001b[0m\n\u001b[1;32m      5\u001b[0m \u001b[0mx\u001b[0m \u001b[0;34m=\u001b[0m \u001b[0mnp\u001b[0m\u001b[0;34m.\u001b[0m\u001b[0mexpand_dims\u001b[0m\u001b[0;34m(\u001b[0m\u001b[0mx\u001b[0m\u001b[0;34m,\u001b[0m \u001b[0maxis\u001b[0m\u001b[0;34m=\u001b[0m\u001b[0;36m0\u001b[0m\u001b[0;34m)\u001b[0m\u001b[0;34m\u001b[0m\u001b[0;34m\u001b[0m\u001b[0m\n",
            "\u001b[0;32m/usr/local/lib/python3.8/dist-packages/keras/utils/image_utils.py\u001b[0m in \u001b[0;36mload_img\u001b[0;34m(path, grayscale, color_mode, target_size, interpolation, keep_aspect_ratio)\u001b[0m\n\u001b[1;32m    391\u001b[0m     \u001b[0;32mif\u001b[0m \u001b[0misinstance\u001b[0m\u001b[0;34m(\u001b[0m\u001b[0mpath\u001b[0m\u001b[0;34m,\u001b[0m \u001b[0mpathlib\u001b[0m\u001b[0;34m.\u001b[0m\u001b[0mPath\u001b[0m\u001b[0;34m)\u001b[0m\u001b[0;34m:\u001b[0m\u001b[0;34m\u001b[0m\u001b[0;34m\u001b[0m\u001b[0m\n\u001b[1;32m    392\u001b[0m       \u001b[0mpath\u001b[0m \u001b[0;34m=\u001b[0m \u001b[0mstr\u001b[0m\u001b[0;34m(\u001b[0m\u001b[0mpath\u001b[0m\u001b[0;34m.\u001b[0m\u001b[0mresolve\u001b[0m\u001b[0;34m(\u001b[0m\u001b[0;34m)\u001b[0m\u001b[0;34m)\u001b[0m\u001b[0;34m\u001b[0m\u001b[0;34m\u001b[0m\u001b[0m\n\u001b[0;32m--> 393\u001b[0;31m     \u001b[0;32mwith\u001b[0m \u001b[0mopen\u001b[0m\u001b[0;34m(\u001b[0m\u001b[0mpath\u001b[0m\u001b[0;34m,\u001b[0m \u001b[0;34m'rb'\u001b[0m\u001b[0;34m)\u001b[0m \u001b[0;32mas\u001b[0m \u001b[0mf\u001b[0m\u001b[0;34m:\u001b[0m\u001b[0;34m\u001b[0m\u001b[0;34m\u001b[0m\u001b[0m\n\u001b[0m\u001b[1;32m    394\u001b[0m       \u001b[0mimg\u001b[0m \u001b[0;34m=\u001b[0m \u001b[0mpil_image\u001b[0m\u001b[0;34m.\u001b[0m\u001b[0mopen\u001b[0m\u001b[0;34m(\u001b[0m\u001b[0mio\u001b[0m\u001b[0;34m.\u001b[0m\u001b[0mBytesIO\u001b[0m\u001b[0;34m(\u001b[0m\u001b[0mf\u001b[0m\u001b[0;34m.\u001b[0m\u001b[0mread\u001b[0m\u001b[0;34m(\u001b[0m\u001b[0;34m)\u001b[0m\u001b[0;34m)\u001b[0m\u001b[0;34m)\u001b[0m\u001b[0;34m\u001b[0m\u001b[0;34m\u001b[0m\u001b[0m\n\u001b[1;32m    395\u001b[0m   \u001b[0;32melse\u001b[0m\u001b[0;34m:\u001b[0m\u001b[0;34m\u001b[0m\u001b[0;34m\u001b[0m\u001b[0m\n",
            "\u001b[0;31mFileNotFoundError\u001b[0m: [Errno 2] No such file or directory: 'd:\\\\tests\\\\cat0.jpg'"
          ]
        }
      ],
      "source": [
        "model = ResNet50(weights='imagenet',include_top=False)\n",
        "img_path = 'd:\\\\tests\\\\cat0.jpg'\n",
        "img = image.load_img(img_path, target_size=(224, 224))\n",
        "x = image.img_to_array(img)\n",
        "x = np.expand_dims(x, axis=0)\n",
        "preds = model.predict(x)"
      ]
    },
    {
      "cell_type": "code",
      "execution_count": null,
      "metadata": {
        "colab": {
          "base_uri": "https://localhost:8080/",
          "height": 165
        },
        "id": "k2_fVowuyOpS",
        "outputId": "386be402-8d67-423f-df2a-6ae1774d4cda"
      },
      "outputs": [
        {
          "output_type": "error",
          "ename": "NameError",
          "evalue": "ignored",
          "traceback": [
            "\u001b[0;31m---------------------------------------------------------------------------\u001b[0m",
            "\u001b[0;31mNameError\u001b[0m                                 Traceback (most recent call last)",
            "\u001b[0;32m<ipython-input-5-29d7a5a435d2>\u001b[0m in \u001b[0;36m<module>\u001b[0;34m\u001b[0m\n\u001b[0;32m----> 1\u001b[0;31m \u001b[0mpreds\u001b[0m\u001b[0;34m.\u001b[0m\u001b[0mshape\u001b[0m\u001b[0;34m\u001b[0m\u001b[0;34m\u001b[0m\u001b[0m\n\u001b[0m",
            "\u001b[0;31mNameError\u001b[0m: name 'preds' is not defined"
          ]
        }
      ],
      "source": [
        "preds.shape"
      ]
    },
    {
      "cell_type": "markdown",
      "metadata": {
        "id": "7fTlakkqyOpT"
      },
      "source": [
        "###### https://medium.com/@kenneth.ca95/a-guide-to-transfer-learning-with-keras-using-resnet50-a81a4a28084b\n",
        "### Transfer learning for CIFAR using resnet50 of 10 classes"
      ]
    },
    {
      "cell_type": "code",
      "execution_count": null,
      "metadata": {
        "id": "Ir01kAyCyOpT"
      },
      "outputs": [],
      "source": [
        "import tensorflow as tf\n",
        "import tensorflow.keras as K\n",
        "from tensorflow.keras.models import Sequential\n",
        "from tensorflow.keras.layers import Flatten, Dense\n",
        "from tensorflow.keras.optimizers import Adam"
      ]
    },
    {
      "cell_type": "code",
      "execution_count": null,
      "metadata": {
        "id": "aA42VULoyOpT"
      },
      "outputs": [],
      "source": []
    },
    {
      "cell_type": "code",
      "execution_count": null,
      "metadata": {
        "id": "fO7B7_-myOpU"
      },
      "outputs": [],
      "source": [
        "def preprocess_data(X, Y):\n",
        "    \"\"\"trains a convolutional neural network to classify the dataset\"\"\"\n",
        "    X_p = K.applications.resnet50.preprocess_input(X)\n",
        "    Y_p = K.utils.to_categorical(Y, 10)\n",
        "    return X_p, Y_p"
      ]
    },
    {
      "cell_type": "code",
      "execution_count": null,
      "metadata": {
        "id": "MkARpKk_yOpU"
      },
      "outputs": [],
      "source": [
        "(trainX, trainy), (testX, testy) = K.datasets.cifar10.load_data()\n",
        "trainX, trainy = preprocess_data(trainX, trainy)\n",
        "testX, testy = preprocess_data(testX, testy)"
      ]
    },
    {
      "cell_type": "code",
      "execution_count": null,
      "metadata": {
        "colab": {
          "base_uri": "https://localhost:8080/"
        },
        "id": "yQoIVpHyyOpV",
        "outputId": "01d2627b-20c8-4bc2-ead9-6f5d92a3f081"
      },
      "outputs": [
        {
          "output_type": "stream",
          "name": "stdout",
          "text": [
            "(50000, 32, 32, 3)\n",
            "(50000, 10)\n",
            "(20000, 32, 32, 3)\n",
            "(20000, 10)\n"
          ]
        }
      ],
      "source": [
        "#optionally reduce the data size\n",
        "import numpy as np\n",
        "Nrequired=20000\n",
        "r=np.random.permutation(trainX.shape[0])\n",
        "print(trainX.shape)\n",
        "print(trainy.shape)\n",
        "trainX=trainX[r[0:Nrequired],:,:,:]\n",
        "trainy=trainy[r[0:Nrequired]]\n",
        "r=np.random.permutation(testX.shape[0])\n",
        "testX=testX[r[0:Nrequired],:,:,:]\n",
        "testy=testy[r[0:Nrequired]]\n",
        "print(trainX.shape)\n",
        "print(trainy.shape)"
      ]
    },
    {
      "cell_type": "code",
      "execution_count": null,
      "metadata": {
        "id": "9XoPyRP3yOpV"
      },
      "outputs": [],
      "source": [
        "inputs = K.Input(shape=(224, 224, 3))\n",
        "#Loading the ResNet50 model with pre-trained ImageNet weights\n",
        "resnet = K.applications.ResNet50(weights='imagenet',include_top=False,input_tensor=inputs)"
      ]
    },
    {
      "cell_type": "code",
      "execution_count": null,
      "metadata": {
        "id": "pRPhR4B-yOpW"
      },
      "outputs": [],
      "source": [
        "for layer in resnet.layers[:170]:\n",
        "    layer.trainable = False"
      ]
    },
    {
      "cell_type": "code",
      "execution_count": null,
      "metadata": {
        "id": "A2l_8GBnyOpW"
      },
      "outputs": [],
      "source": [
        "model = K.models.Sequential()\n",
        "model.add(K.layers.Lambda(lambda x: tf.image.resize(x,(224, 224))))\n",
        "model.add(resnet)\n",
        "\n",
        "model.add(K.layers.Flatten())\n",
        "\n",
        "model.add(K.layers.Dense(64, activation='relu'))\n",
        "model.add(K.layers.Dropout(0.3))\n",
        "model.add(K.layers.BatchNormalization())\n",
        "model.add(K.layers.Dense(10, activation='softmax'))"
      ]
    },
    {
      "cell_type": "code",
      "execution_count": null,
      "metadata": {
        "colab": {
          "base_uri": "https://localhost:8080/"
        },
        "id": "92-wW91KyOpW",
        "outputId": "cb52b7a8-baee-4e9a-b01b-48cfd6fa1622"
      },
      "outputs": [
        {
          "output_type": "stream",
          "name": "stdout",
          "text": [
            "Epoch 1/30\n"
          ]
        },
        {
          "output_type": "stream",
          "name": "stderr",
          "text": [
            "/usr/local/lib/python3.8/dist-packages/keras/optimizers/optimizer_v2/rmsprop.py:135: UserWarning: The `lr` argument is deprecated, use `learning_rate` instead.\n",
            "  super(RMSprop, self).__init__(name, **kwargs)\n"
          ]
        },
        {
          "output_type": "stream",
          "name": "stdout",
          "text": [
            "32/32 [==============================] - 25s 396ms/step - loss: 0.7666 - accuracy: 0.4210 - val_loss: 0.8253 - val_accuracy: 0.6655\n",
            "Epoch 2/30\n",
            "32/32 [==============================] - 11s 356ms/step - loss: 0.6519 - accuracy: 0.7565 - val_loss: 0.7391 - val_accuracy: 0.7485\n",
            "Epoch 3/30\n",
            "32/32 [==============================] - 11s 365ms/step - loss: 0.6094 - accuracy: 0.8525 - val_loss: 0.6484 - val_accuracy: 0.7805\n",
            "Epoch 4/30\n",
            "32/32 [==============================] - 12s 372ms/step - loss: 0.5763 - accuracy: 0.9165 - val_loss: 0.6517 - val_accuracy: 0.7935\n",
            "Epoch 5/30\n",
            "32/32 [==============================] - 12s 386ms/step - loss: 0.5527 - accuracy: 0.9535 - val_loss: 0.6155 - val_accuracy: 0.8125\n",
            "Epoch 6/30\n",
            "32/32 [==============================] - 13s 402ms/step - loss: 0.5379 - accuracy: 0.9695 - val_loss: 0.5947 - val_accuracy: 0.8160\n",
            "Epoch 7/30\n",
            "32/32 [==============================] - 13s 415ms/step - loss: 0.5262 - accuracy: 0.9795 - val_loss: 0.5721 - val_accuracy: 0.8250\n",
            "Epoch 8/30\n",
            "32/32 [==============================] - 13s 411ms/step - loss: 0.5140 - accuracy: 0.9900 - val_loss: 0.5869 - val_accuracy: 0.8290\n",
            "Epoch 9/30\n",
            "32/32 [==============================] - 13s 400ms/step - loss: 0.5059 - accuracy: 0.9930 - val_loss: 0.5612 - val_accuracy: 0.8390\n",
            "Epoch 10/30\n",
            "32/32 [==============================] - 12s 394ms/step - loss: 0.4989 - accuracy: 0.9925 - val_loss: 0.5675 - val_accuracy: 0.8345\n",
            "Epoch 11/30\n",
            "32/32 [==============================] - 17s 527ms/step - loss: 0.4916 - accuracy: 0.9940 - val_loss: 0.5266 - val_accuracy: 0.8340\n",
            "Epoch 12/30\n",
            "32/32 [==============================] - 12s 390ms/step - loss: 0.4856 - accuracy: 0.9955 - val_loss: 0.5291 - val_accuracy: 0.8400\n",
            "Epoch 13/30\n",
            "32/32 [==============================] - 13s 405ms/step - loss: 0.4812 - accuracy: 0.9955 - val_loss: 0.5425 - val_accuracy: 0.8420\n",
            "Epoch 14/30\n",
            "32/32 [==============================] - 13s 411ms/step - loss: 0.4789 - accuracy: 0.9980 - val_loss: 0.5442 - val_accuracy: 0.8450\n",
            "Epoch 15/30\n",
            "32/32 [==============================] - 13s 403ms/step - loss: 0.4759 - accuracy: 0.9965 - val_loss: 0.5249 - val_accuracy: 0.8460\n",
            "Epoch 16/30\n",
            "32/32 [==============================] - 13s 398ms/step - loss: 0.4712 - accuracy: 0.9985 - val_loss: 0.5073 - val_accuracy: 0.8475\n",
            "Epoch 17/30\n",
            "32/32 [==============================] - 17s 529ms/step - loss: 0.4684 - accuracy: 0.9985 - val_loss: 0.5326 - val_accuracy: 0.8520\n",
            "Epoch 18/30\n",
            "32/32 [==============================] - 12s 393ms/step - loss: 0.4626 - accuracy: 1.0000 - val_loss: 0.5236 - val_accuracy: 0.8520\n",
            "Epoch 19/30\n",
            "32/32 [==============================] - 13s 405ms/step - loss: 0.4590 - accuracy: 0.9985 - val_loss: 0.5028 - val_accuracy: 0.8500\n",
            "Epoch 20/30\n",
            "32/32 [==============================] - 13s 407ms/step - loss: 0.4585 - accuracy: 0.9990 - val_loss: 0.5173 - val_accuracy: 0.8500\n",
            "Epoch 21/30\n",
            "32/32 [==============================] - 13s 401ms/step - loss: 0.4586 - accuracy: 0.9985 - val_loss: 0.5151 - val_accuracy: 0.8510\n",
            "Epoch 22/30\n",
            "32/32 [==============================] - 13s 397ms/step - loss: 0.4532 - accuracy: 1.0000 - val_loss: 0.5121 - val_accuracy: 0.8510\n",
            "Epoch 23/30\n",
            "32/32 [==============================] - 12s 396ms/step - loss: 0.4500 - accuracy: 0.9990 - val_loss: 0.5198 - val_accuracy: 0.8525\n",
            "Epoch 24/30\n",
            "32/32 [==============================] - 13s 398ms/step - loss: 0.4482 - accuracy: 0.9995 - val_loss: 0.5021 - val_accuracy: 0.8520\n",
            "Epoch 25/30\n",
            "32/32 [==============================] - 13s 398ms/step - loss: 0.4470 - accuracy: 0.9990 - val_loss: 0.4871 - val_accuracy: 0.8550\n",
            "Epoch 26/30\n",
            "32/32 [==============================] - 13s 400ms/step - loss: 0.4453 - accuracy: 1.0000 - val_loss: 0.4942 - val_accuracy: 0.8520\n",
            "Epoch 27/30\n",
            "32/32 [==============================] - 13s 400ms/step - loss: 0.4426 - accuracy: 0.9990 - val_loss: 0.5044 - val_accuracy: 0.8540\n",
            "Epoch 28/30\n",
            "32/32 [==============================] - 13s 401ms/step - loss: 0.4397 - accuracy: 0.9990 - val_loss: 0.4997 - val_accuracy: 0.8550\n",
            "Epoch 29/30\n",
            "32/32 [==============================] - 13s 401ms/step - loss: 0.4386 - accuracy: 0.9990 - val_loss: 0.5020 - val_accuracy: 0.8550\n",
            "Epoch 30/30\n",
            "32/32 [==============================] - 13s 402ms/step - loss: 0.4364 - accuracy: 0.9995 - val_loss: 0.5029 - val_accuracy: 0.8610\n",
            "Model: \"sequential\"\n",
            "_________________________________________________________________\n",
            " Layer (type)                Output Shape              Param #   \n",
            "=================================================================\n",
            " lambda (Lambda)             (None, 224, 224, 3)       0         \n",
            "                                                                 \n",
            " resnet50 (Functional)       (None, 7, 7, 2048)        23587712  \n",
            "                                                                 \n",
            " flatten (Flatten)           (None, 100352)            0         \n",
            "                                                                 \n",
            " dense (Dense)               (None, 64)                6422592   \n",
            "                                                                 \n",
            " dropout (Dropout)           (None, 64)                0         \n",
            "                                                                 \n",
            " batch_normalization (BatchN  (None, 64)               256       \n",
            " ormalization)                                                   \n",
            "                                                                 \n",
            " dense_1 (Dense)             (None, 10)                650       \n",
            "                                                                 \n",
            "=================================================================\n",
            "Total params: 30,011,210\n",
            "Trainable params: 7,478,090\n",
            "Non-trainable params: 22,533,120\n",
            "_________________________________________________________________\n"
          ]
        }
      ],
      "source": [
        "model.compile(loss='binary_crossentropy',\n",
        "     optimizer=K.optimizers.RMSprop(lr=2e-5), metrics=['accuracy'])\n",
        "model.fit(trainX, trainy, batch_size=64, epochs=30, verbose=1,\n",
        "     validation_data=(testX, testy),\n",
        "     shuffle=True)\n",
        "model.summary()\n",
        "# model.save(\"cifar10.h5\")"
      ]
    },
    {
      "cell_type": "code",
      "execution_count": null,
      "metadata": {
        "id": "kgD8-yu5yOpX"
      },
      "outputs": [],
      "source": [
        "image_pred=model.predict(testX)\n",
        "np.argmax(image_pred,axis=1)"
      ]
    },
    {
      "cell_type": "code",
      "execution_count": null,
      "metadata": {
        "id": "e2ZD2LRDyOpX"
      },
      "outputs": [],
      "source": []
    },
    {
      "cell_type": "code",
      "execution_count": null,
      "metadata": {
        "id": "YayRF-UwyOpX"
      },
      "outputs": [],
      "source": []
    },
    {
      "cell_type": "code",
      "execution_count": null,
      "metadata": {
        "id": "RbmSvTK2yOpX"
      },
      "outputs": [],
      "source": [
        "model = K.models.Sequential()\n",
        "model.add(K.layers.Lambda(lambda x: tf.image.resize(x,(224, 224))))\n",
        "model.add(resnet)\n",
        "\n",
        "model.add(K.layers.GlobalAveragePooling2D())\n",
        "\n",
        "model.add(K.layers.BatchNormalization())\n",
        "model.add(K.layers.Dense(64, activation='relu'))\n",
        "model.add(K.layers.Dropout(0.3))\n",
        "model.add(K.layers.BatchNormalization())\n",
        "model.add(K.layers.Dense(10, activation='softmax'))"
      ]
    },
    {
      "cell_type": "code",
      "execution_count": null,
      "metadata": {
        "colab": {
          "base_uri": "https://localhost:8080/"
        },
        "id": "Ih2mm5_IyOpX",
        "outputId": "ccb679d6-d1ab-458f-93d6-f81539293131"
      },
      "outputs": [
        {
          "output_type": "stream",
          "name": "stdout",
          "text": [
            "Epoch 1/20\n",
            "157/157 [==============================] - ETA: 0s - loss: 0.6811 - accuracy: 0.6119\n",
            "Epoch 1: val_accuracy improved from -inf to 0.76880, saving model to cifar10.h5\n",
            "157/157 [==============================] - 104s 629ms/step - loss: 0.6811 - accuracy: 0.6119 - val_loss: 0.5886 - val_accuracy: 0.7688\n",
            "Epoch 2/20\n",
            "157/157 [==============================] - ETA: 0s - loss: 0.6265 - accuracy: 0.7363\n",
            "Epoch 2: val_accuracy improved from 0.76880 to 0.81250, saving model to cifar10.h5\n",
            "157/157 [==============================] - 106s 676ms/step - loss: 0.6265 - accuracy: 0.7363 - val_loss: 0.5524 - val_accuracy: 0.8125\n",
            "Epoch 3/20\n",
            "157/157 [==============================] - ETA: 0s - loss: 0.5928 - accuracy: 0.7893\n",
            "Epoch 3: val_accuracy improved from 0.81250 to 0.83150, saving model to cifar10.h5\n",
            "157/157 [==============================] - 96s 612ms/step - loss: 0.5928 - accuracy: 0.7893 - val_loss: 0.5269 - val_accuracy: 0.8315\n",
            "Epoch 4/20\n",
            "157/157 [==============================] - ETA: 0s - loss: 0.5694 - accuracy: 0.8114\n",
            "Epoch 4: val_accuracy improved from 0.83150 to 0.84140, saving model to cifar10.h5\n",
            "157/157 [==============================] - 96s 611ms/step - loss: 0.5694 - accuracy: 0.8114 - val_loss: 0.5115 - val_accuracy: 0.8414\n",
            "Epoch 5/20\n",
            "157/157 [==============================] - ETA: 0s - loss: 0.5519 - accuracy: 0.8273\n",
            "Epoch 5: val_accuracy improved from 0.84140 to 0.84910, saving model to cifar10.h5\n",
            "157/157 [==============================] - 96s 611ms/step - loss: 0.5519 - accuracy: 0.8273 - val_loss: 0.4944 - val_accuracy: 0.8491\n",
            "Epoch 6/20\n",
            "157/157 [==============================] - ETA: 0s - loss: 0.5369 - accuracy: 0.8401\n",
            "Epoch 6: val_accuracy improved from 0.84910 to 0.85280, saving model to cifar10.h5\n",
            "157/157 [==============================] - 96s 611ms/step - loss: 0.5369 - accuracy: 0.8401 - val_loss: 0.4819 - val_accuracy: 0.8528\n",
            "Epoch 7/20\n",
            "157/157 [==============================] - ETA: 0s - loss: 0.5243 - accuracy: 0.8501\n",
            "Epoch 7: val_accuracy improved from 0.85280 to 0.85830, saving model to cifar10.h5\n",
            "157/157 [==============================] - 95s 609ms/step - loss: 0.5243 - accuracy: 0.8501 - val_loss: 0.4725 - val_accuracy: 0.8583\n",
            "Epoch 8/20\n",
            "157/157 [==============================] - ETA: 0s - loss: 0.5134 - accuracy: 0.8540\n",
            "Epoch 8: val_accuracy improved from 0.85830 to 0.86210, saving model to cifar10.h5\n",
            "157/157 [==============================] - 95s 608ms/step - loss: 0.5134 - accuracy: 0.8540 - val_loss: 0.4614 - val_accuracy: 0.8621\n",
            "Epoch 9/20\n",
            "157/157 [==============================] - ETA: 0s - loss: 0.5036 - accuracy: 0.8615\n",
            "Epoch 9: val_accuracy improved from 0.86210 to 0.86550, saving model to cifar10.h5\n",
            "157/157 [==============================] - 95s 608ms/step - loss: 0.5036 - accuracy: 0.8615 - val_loss: 0.4533 - val_accuracy: 0.8655\n",
            "Epoch 10/20\n",
            "157/157 [==============================] - ETA: 0s - loss: 0.4945 - accuracy: 0.8679\n",
            "Epoch 10: val_accuracy improved from 0.86550 to 0.86750, saving model to cifar10.h5\n",
            "157/157 [==============================] - 96s 611ms/step - loss: 0.4945 - accuracy: 0.8679 - val_loss: 0.4449 - val_accuracy: 0.8675\n",
            "Epoch 11/20\n",
            "157/157 [==============================] - ETA: 0s - loss: 0.4854 - accuracy: 0.8727\n",
            "Epoch 11: val_accuracy improved from 0.86750 to 0.86990, saving model to cifar10.h5\n",
            "157/157 [==============================] - 143s 912ms/step - loss: 0.4854 - accuracy: 0.8727 - val_loss: 0.4363 - val_accuracy: 0.8699\n",
            "Epoch 12/20\n",
            "157/157 [==============================] - ETA: 0s - loss: 0.4773 - accuracy: 0.8774\n",
            "Epoch 12: val_accuracy improved from 0.86990 to 0.87130, saving model to cifar10.h5\n",
            "157/157 [==============================] - 96s 615ms/step - loss: 0.4773 - accuracy: 0.8774 - val_loss: 0.4304 - val_accuracy: 0.8713\n",
            "Epoch 13/20\n",
            "157/157 [==============================] - ETA: 0s - loss: 0.4693 - accuracy: 0.8773\n",
            "Epoch 13: val_accuracy improved from 0.87130 to 0.87350, saving model to cifar10.h5\n",
            "157/157 [==============================] - 96s 610ms/step - loss: 0.4693 - accuracy: 0.8773 - val_loss: 0.4225 - val_accuracy: 0.8735\n",
            "Epoch 14/20\n",
            "157/157 [==============================] - ETA: 0s - loss: 0.4602 - accuracy: 0.8860\n",
            "Epoch 14: val_accuracy improved from 0.87350 to 0.87560, saving model to cifar10.h5\n",
            "157/157 [==============================] - 96s 612ms/step - loss: 0.4602 - accuracy: 0.8860 - val_loss: 0.4145 - val_accuracy: 0.8756\n",
            "Epoch 15/20\n",
            "157/157 [==============================] - ETA: 0s - loss: 0.4527 - accuracy: 0.8861\n",
            "Epoch 15: val_accuracy improved from 0.87560 to 0.87690, saving model to cifar10.h5\n",
            "157/157 [==============================] - 96s 610ms/step - loss: 0.4527 - accuracy: 0.8861 - val_loss: 0.4087 - val_accuracy: 0.8769\n",
            "Epoch 16/20\n",
            "157/157 [==============================] - ETA: 0s - loss: 0.4454 - accuracy: 0.8925\n",
            "Epoch 16: val_accuracy improved from 0.87690 to 0.87820, saving model to cifar10.h5\n",
            "157/157 [==============================] - 95s 608ms/step - loss: 0.4454 - accuracy: 0.8925 - val_loss: 0.4012 - val_accuracy: 0.8782\n",
            "Epoch 17/20\n",
            "157/157 [==============================] - ETA: 0s - loss: 0.4376 - accuracy: 0.8939\n",
            "Epoch 17: val_accuracy improved from 0.87820 to 0.87970, saving model to cifar10.h5\n",
            "157/157 [==============================] - 96s 610ms/step - loss: 0.4376 - accuracy: 0.8939 - val_loss: 0.3940 - val_accuracy: 0.8797\n",
            "Epoch 18/20\n",
            "157/157 [==============================] - ETA: 0s - loss: 0.4306 - accuracy: 0.8970\n",
            "Epoch 18: val_accuracy improved from 0.87970 to 0.88080, saving model to cifar10.h5\n",
            "157/157 [==============================] - 96s 612ms/step - loss: 0.4306 - accuracy: 0.8970 - val_loss: 0.3865 - val_accuracy: 0.8808\n",
            "Epoch 19/20\n",
            "157/157 [==============================] - ETA: 0s - loss: 0.4218 - accuracy: 0.9014\n",
            "Epoch 19: val_accuracy improved from 0.88080 to 0.88190, saving model to cifar10.h5\n",
            "157/157 [==============================] - 95s 609ms/step - loss: 0.4218 - accuracy: 0.9014 - val_loss: 0.3805 - val_accuracy: 0.8819\n",
            "Epoch 20/20\n",
            "157/157 [==============================] - ETA: 0s - loss: 0.4150 - accuracy: 0.9031\n",
            "Epoch 20: val_accuracy improved from 0.88190 to 0.88220, saving model to cifar10.h5\n",
            "157/157 [==============================] - 95s 610ms/step - loss: 0.4150 - accuracy: 0.9031 - val_loss: 0.3709 - val_accuracy: 0.8822\n",
            "Model: \"sequential\"\n",
            "_________________________________________________________________\n",
            " Layer (type)                Output Shape              Param #   \n",
            "=================================================================\n",
            " lambda (Lambda)             (None, 224, 224, 3)       0         \n",
            "                                                                 \n",
            " resnet50 (Functional)       (None, 7, 7, 2048)        23587712  \n",
            "                                                                 \n",
            " global_average_pooling2d (G  (None, 2048)             0         \n",
            " lobalAveragePooling2D)                                          \n",
            "                                                                 \n",
            " batch_normalization (BatchN  (None, 2048)             8192      \n",
            " ormalization)                                                   \n",
            "                                                                 \n",
            " dense (Dense)               (None, 64)                131136    \n",
            "                                                                 \n",
            " dropout (Dropout)           (None, 64)                0         \n",
            "                                                                 \n",
            " batch_normalization_1 (Batc  (None, 64)               256       \n",
            " hNormalization)                                                 \n",
            "                                                                 \n",
            " dense_1 (Dense)             (None, 10)                650       \n",
            "                                                                 \n",
            "=================================================================\n",
            "Total params: 23,727,946\n",
            "Trainable params: 1,190,730\n",
            "Non-trainable params: 22,537,216\n",
            "_________________________________________________________________\n"
          ]
        }
      ],
      "source": [
        "model.compile(loss='binary_crossentropy',\n",
        "     optimizer=K.optimizers.RMSprop(lr=2e-5), metrics=['accuracy'])\n",
        "checkpointer = K.callbacks.ModelCheckpoint(filepath='cifar10.h5',\n",
        "     monitor=\"val_accuracy\", verbose=1, save_best_only=True)\n",
        "model.fit(trainX, trainy, batch_size=128, epochs=20, verbose=1,\n",
        "     callbacks=[checkpointer], validation_data=(testX, testy),\n",
        "     shuffle=True)\n",
        "model.summary()\n",
        "# model.save(\"cifar10.h5\")"
      ]
    },
    {
      "cell_type": "code",
      "execution_count": null,
      "metadata": {
        "id": "dpH1C6V-yOpY"
      },
      "outputs": [],
      "source": [
        "image_pred=model.predict(testX)\n",
        "np.argmax(image_pred,axis=1)"
      ]
    },
    {
      "cell_type": "code",
      "execution_count": null,
      "metadata": {
        "id": "_8p9bY-XyOpY"
      },
      "outputs": [],
      "source": []
    },
    {
      "cell_type": "code",
      "execution_count": null,
      "metadata": {
        "id": "lQ2KRvo1yOpY"
      },
      "outputs": [],
      "source": []
    },
    {
      "cell_type": "code",
      "execution_count": null,
      "metadata": {
        "id": "3TKwxoqLyOpY"
      },
      "outputs": [],
      "source": []
    },
    {
      "cell_type": "code",
      "execution_count": null,
      "metadata": {
        "id": "3U3LxYOlyOpY"
      },
      "outputs": [],
      "source": []
    }
  ],
  "metadata": {
    "kernelspec": {
      "display_name": "Python 3 (ipykernel)",
      "language": "python",
      "name": "python3"
    },
    "language_info": {
      "codemirror_mode": {
        "name": "ipython",
        "version": 3
      },
      "file_extension": ".py",
      "mimetype": "text/x-python",
      "name": "python",
      "nbconvert_exporter": "python",
      "pygments_lexer": "ipython3",
      "version": "3.9.13"
    },
    "colab": {
      "provenance": []
    },
    "accelerator": "GPU",
    "gpuClass": "standard"
  },
  "nbformat": 4,
  "nbformat_minor": 0
}